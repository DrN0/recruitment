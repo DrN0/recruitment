{
 "cells": [
  {
   "cell_type": "markdown",
   "metadata": {
    "_cell_guid": "b91a74ba-85f4-486e-b5f9-d0898f0626bf",
    "_uuid": "6ac53f18b4f4ec0fc44348cedb5d1c319fa127c0"
   },
   "source": [
    "# Data cleaning: inconsistent data\n",
    "\n",
    "This notebook is an abstraction of the Kaggle's 5-Day Challenge.\n",
    "\n",
    "The **goal** of this exercise is to clean inconsistent text entries. \n",
    "\n",
    "The **evaluation** of the assignment will follow:\n",
    "\n",
    "* Design process and thinking as a data engineer.\n",
    "* Validation of knowledge on the different tools and steps throughout the process.\n",
    "* Storytelling and visualisation of the insights.\n",
    "\n",
    "Exercise **workflow**:\n",
    "\n",
    "* Import dependencies & download dataset from [here](https://www.kaggle.com/zusmani/pakistansuicideattacks/download).\n",
    "* Preliminary text pre-processing\n",
    "* Matching of inconsistent data entries\n",
    "    \n",
    "Notes:\n",
    "\n",
    "* Write your code into the `TODO` cells\n",
    "* Feel free to choose how to present the results throughout the exercise, what libraries (e.g., seaborn, bokeh, etc.) and/or tools (e.g., PowerBI or Tableau)."
   ]
  },
  {
   "cell_type": "markdown",
   "metadata": {
    "_cell_guid": "5cd5061f-ae30-4837-a53b-690ffd5c5830",
    "_uuid": "9d82bf13584b8e682962fbb96131f2447d741679"
   },
   "source": [
    "## Preamble\n",
    "________"
   ]
  },
  {
   "cell_type": "code",
   "execution_count": null,
   "metadata": {
    "_cell_guid": "135a7804-b5f5-40aa-8657-4a15774e3666",
    "_uuid": "835cbe0834b935fb0fd40c75b9c39454836f4d5f"
   },
   "outputs": [],
   "source": [
    "import pandas as pd\n",
    "import numpy as np\n",
    "\n",
    "import fuzzywuzzy\n",
    "from fuzzywuzzy import process\n",
    "import chardet\n",
    "\n",
    "np.random.seed(0)"
   ]
  },
  {
   "cell_type": "markdown",
   "metadata": {},
   "source": [
    "## Data\n",
    "________\n",
    "\n",
    "\n",
    "**TODO**\n",
    "\n",
    "* Download dataset from [here](https://www.kaggle.com/zusmani/pakistansuicideattacks/download).\n",
    "* Identify the encoding of the data in `filename`\n",
    "* Read the csv into `suicide_attacks` variable using the correct encoding (the `chardet` module might come handy)."
   ]
  },
  {
   "cell_type": "code",
   "execution_count": null,
   "metadata": {},
   "outputs": [],
   "source": [
    "filename = \"?\"\n",
    "\n",
    "encoding = \"foo\"\n",
    "\n",
    "suicide_attacks = pd.read_csv(filename, encoding=encoding)\n",
    "suicide_attacks.info()"
   ]
  },
  {
   "cell_type": "markdown",
   "metadata": {
    "_cell_guid": "83630dd4-6775-4ba5-a290-077c6f503f64",
    "_uuid": "a3f42cea88795426f036e35d30d5c079f3c6152c"
   },
   "source": [
    "## Preliminary text pre-processing\n",
    "___\n",
    "\n",
    "**TODO**\n",
    "\n",
    "* Clean the `City` column for inconsisntecies\n",
    "* Normalize the `City` column for upper or lowercase, spaces, etc."
   ]
  },
  {
   "cell_type": "code",
   "execution_count": null,
   "metadata": {
    "_cell_guid": "b3d4b17e-77c4-46d8-9681-a94801969b49",
    "_uuid": "4bced8b6f6a985ded2c991f46ed0145ac1d8b722"
   },
   "outputs": [],
   "source": [
    "# get all the unique values in the 'City' column\n",
    "cities = suicide_attacks['City'].unique()\n",
    "\n",
    "# sort them alphabetically and then take a closer look\n",
    "cities.sort()\n",
    "cities"
   ]
  },
  {
   "cell_type": "markdown",
   "metadata": {
    "_cell_guid": "a612e0fa-1361-4e8e-a6aa-5008b631d076",
    "_uuid": "3639865348f499faa25b75a46438807ed70d4173"
   },
   "source": [
    "## Matching of inconsistent data entries\n",
    "___\n",
    "\n",
    "**TODO** \n",
    "\n",
    "* Verify there are no more inconsistencies in the `City` column.\n",
    "* Feel free to use the [`fuzzywuzzy`](https://github.com/seatgeek/fuzzywuzzy) package to match an remove possible issues.\n",
    "\n",
    "> **Fuzzy matching:** The process of automatically finding text strings that are very similar to the target string. In general, a string is considered \"closer\" to another one the fewer characters you'd need to change if you were transforming one string into another. So \"apple\" and \"snapple\" are two changes away from each other (add \"s\" and \"n\") while \"in\" and \"on\" and one change away (rplace \"i\" with \"o\"). You won't always be able to rely on fuzzy matching 100%, but it will usually end up saving you at least a little time."
   ]
  },
  {
   "cell_type": "code",
   "execution_count": null,
   "metadata": {
    "_cell_guid": "8f20fd24-33a4-472d-ba22-be0abc2a1e5b",
    "_uuid": "1408dacdd7b76f306bd1c0c534b991d76243d7cc"
   },
   "outputs": [],
   "source": [
    "# get all the unique values in the 'City' column\n",
    "cities = suicide_attacks['City'].unique()\n",
    "\n",
    "# sort them alphabetically and then take a closer look\n",
    "cities.sort()\n",
    "cities2=cities.astype(str)\n",
    "\n",
    "print(\"\\n\".join(cities))"
   ]
  }
 ],
 "metadata": {
  "kernelspec": {
   "display_name": "Python 3",
   "language": "python",
   "name": "python3"
  },
  "language_info": {
   "codemirror_mode": {
    "name": "ipython",
    "version": 3
   },
   "file_extension": ".py",
   "mimetype": "text/x-python",
   "name": "python",
   "nbconvert_exporter": "python",
   "pygments_lexer": "ipython3",
   "version": "3.8.6"
  }
 },
 "nbformat": 4,
 "nbformat_minor": 4
}
