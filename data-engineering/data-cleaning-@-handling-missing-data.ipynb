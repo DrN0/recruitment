{
 "cells": [
  {
   "cell_type": "markdown",
   "metadata": {},
   "source": [
    "# Data cleaning: handling missing data\n",
    "\n",
    "This notebook is an abstraction of the Kaggle's 5-Day Challenge.\n",
    "\n",
    "The **goal** of this exercise is to clean missing entries. \n",
    "\n",
    "The **evaluation** of the assignment will follow:\n",
    "\n",
    "* Design process and thinking as a data engineer.\n",
    "* Validation of knowledge on the different tools and steps throughout the process.\n",
    "* Storytelling and visualisation of the insights.\n",
    "\n",
    "Exercise **workflow**:\n",
    "\n",
    "* Import dependencies & download dataset from [here](https://www.kaggle.com/maxhorowitz/nflplaybyplay2009to2016/download).\n",
    "* Explore missing data points and values.\n",
    "* Assess the reason for the missing data points and values.\n",
    "* Evaluate a method to drop the missing values.\n",
    "* Evaluate a method to fill the missing values.\n",
    "    \n",
    "Notes:\n",
    "\n",
    "* Write your code into the `TODO` cells.\n",
    "* Feel free to choose how to present the results throughout the exercise, what libraries (e.g., seaborn, bokeh, etc.) and/or tools (e.g., PowerBI or Tableau)."
   ]
  },
  {
   "cell_type": "markdown",
   "metadata": {
    "_cell_guid": "5cd5061f-ae30-4837-a53b-690ffd5c5830",
    "_uuid": "9d82bf13584b8e682962fbb96131f2447d741679"
   },
   "source": [
    "## Preamble\n",
    "________"
   ]
  },
  {
   "cell_type": "code",
   "execution_count": 43,
   "metadata": {
    "_cell_guid": "135a7804-b5f5-40aa-8657-4a15774e3666",
    "_kg_hide-input": false,
    "_kg_hide-output": false,
    "_uuid": "835cbe0834b935fb0fd40c75b9c39454836f4d5f"
   },
   "outputs": [],
   "source": [
    "import pandas as pd\n",
    "import numpy as np\n",
    "\n",
    "np.random.seed(0) "
   ]
  },
  {
   "cell_type": "markdown",
   "metadata": {},
   "source": [
    "## Data\n",
    "________\n",
    "\n",
    "**TODO**\n",
    "\n",
    "* Download the data from [here](https://www.kaggle.com/maxhorowitz/nflplaybyplay2009to2016/download)\n",
    "* Get some info regarding the dataframe (e.g., shape, dimensions, column names, etc.)"
   ]
  },
  {
   "cell_type": "markdown",
   "metadata": {
    "_cell_guid": "33656c2b-a74e-4b76-9af2-d7ecd518577b",
    "_uuid": "400b025f618cc76a39fec2537193f28ba1e49168"
   },
   "source": [
    "## Exploration of missing data points and values\n",
    "___\n",
    "\n",
    "**TODO**\n",
    "\n",
    "* How many missing values are there?\n",
    "* What's the percentage of missing values?\n",
    "* How many missing data points per column are there?"
   ]
  },
  {
   "cell_type": "markdown",
   "metadata": {
    "_cell_guid": "62b9f021-5b80-43e2-bf60-8e0d5e22d572",
    "_uuid": "032a618abb98a28e60ab84376cf21402178f995d"
   },
   "source": [
    "## Assessment of missing data points and values\n",
    "____\n",
    " \n",
    "**TODO**\n",
    "\n",
    "* Look at the # of missing points in all nonzero columns sorted descending. "
   ]
  },
  {
   "cell_type": "markdown",
   "metadata": {
    "_cell_guid": "ea022b62-6419-47e7-973e-c3e707e2795f",
    "_uuid": "3f72f46f2464c7cd12f5eb2a752746ce1cd0b5a7"
   },
   "source": [
    "## Drop missing values\n",
    "___\n",
    "\n",
    "**TODO**\n",
    "\n",
    "* Evaluate removing all rows with missing values\n",
    "* Evaluate removing all columns with at least one missing value\n",
    "* Compare the original dataframe and the filtered ones."
   ]
  },
  {
   "cell_type": "markdown",
   "metadata": {
    "_cell_guid": "1dbe153d-7b30-4ad8-80ad-a4c7fb53928e",
    "_uuid": "eb1ef8d47d9ebed77c3d21eca24708708ed4d45f"
   },
   "source": [
    "## Fill in missing values\n",
    "_____\n",
    "\n",
    "**TODO**\n",
    "\n",
    "* Select a subset of the dataset\n",
    "* Evaluate replacing all NaNs with 0\n",
    "* Evaluate replacing all NaNs with the value of the next value in the same column\n",
    "* Compare the original dataframe and the one with the filled NaNs\n"
   ]
  }
 ],
 "metadata": {
  "kernelspec": {
   "display_name": "Python 3",
   "language": "python",
   "name": "python3"
  },
  "language_info": {
   "codemirror_mode": {
    "name": "ipython",
    "version": 3
   },
   "file_extension": ".py",
   "mimetype": "text/x-python",
   "name": "python",
   "nbconvert_exporter": "python",
   "pygments_lexer": "ipython3",
   "version": "3.8.6"
  }
 },
 "nbformat": 4,
 "nbformat_minor": 4
}
