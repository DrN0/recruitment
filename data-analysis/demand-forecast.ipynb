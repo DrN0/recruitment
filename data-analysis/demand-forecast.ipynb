{
 "cells": [
  {
   "cell_type": "markdown",
   "metadata": {},
   "source": [
    "# Demand Forecast\n",
    "\n",
    "The **goal** of this exercise is to create a demand forecast model for different products (or clusters of products).\n",
    "\n",
    "The **evaluation** of the assignment will follow:\n",
    "\n",
    "* Design process and thinking as a data analyst.\n",
    "* Validation of knowledge on the different tools and steps throughout the process.\n",
    "* Storytelling and visualisation of the insights.\n",
    "\n",
    "\n",
    "Exercise **workflow**:\n",
    "\n",
    "* Import dependencies & data (`../data/Historical\\ Product\\ Demand.csv`).\n",
    "* Explore the dataset to assess its quality (nulls, skew, data types).\n",
    "* Explore the dataset to obtain insights related to the production (e.g., unvariate / bivariate analysis).\n",
    "* Explore the dataset as a time-series (min/max dates, seasonality, trends etc.).\n",
    "* Implement / apply a forecast model:\n",
    "    * Theory\n",
    "    * Parameters tuning\n",
    "    * Build/fit & Validation\n",
    "    * Evaluate performance (e.g., forecast accuracy)\n",
    "    \n",
    "Notes:\n",
    "\n",
    "Feel free to choose how to present the results throughout the exercise, what libraries (e.g., seaborn, bokeh, etc.) and tools (e.g., PowerBI or Tableau).\n",
    "    "
   ]
  },
  {
   "cell_type": "markdown",
   "metadata": {},
   "source": [
    "## Preamble"
   ]
  },
  {
   "cell_type": "code",
   "execution_count": null,
   "metadata": {},
   "outputs": [],
   "source": [
    "import pandas as pd\n",
    "import numpy as np\n",
    "import seaborn as sb\n",
    "\n",
    "import matplotlib.pyplot as plt\n",
    "%matplotlib inline\n",
    "\n",
    "# not mandatory, but might come handy\n",
    "from scipy import stats\n",
    "import statsmodels.api as sm"
   ]
  },
  {
   "cell_type": "markdown",
   "metadata": {},
   "source": [
    "## Data exploration"
   ]
  },
  {
   "cell_type": "markdown",
   "metadata": {},
   "source": [
    "### Data quality assessment\n",
    "\n",
    "* Explore the dataset to assess its quality (nulls, skew, data types)\n",
    "\n",
    "### Production insights\n",
    "* What products / categories are driving the demand?\n",
    "* What warehouses are driving the production?\n",
    "\n",
    "### Time-series insights\n",
    "* Are there missing dates?\n",
    "* Are all dates valid?\n",
    "* What is the seasonability decomposition?\n"
   ]
  },
  {
   "cell_type": "markdown",
   "metadata": {},
   "source": [
    "## Forecast model\n",
    "\n",
    "### Theory\n",
    "* Describe the basic theory behind the solution you have decided to apply\n",
    "\n",
    "### Implementation\n",
    "* What parameters have you consider to tune and why are those important for best-fit?"
   ]
  }
 ],
 "metadata": {
  "kernelspec": {
   "display_name": "Python 3",
   "language": "python",
   "name": "python3"
  },
  "language_info": {
   "codemirror_mode": {
    "name": "ipython",
    "version": 3
   },
   "file_extension": ".py",
   "mimetype": "text/x-python",
   "name": "python",
   "nbconvert_exporter": "python",
   "pygments_lexer": "ipython3",
   "version": "3.8.6"
  }
 },
 "nbformat": 4,
 "nbformat_minor": 4
}
